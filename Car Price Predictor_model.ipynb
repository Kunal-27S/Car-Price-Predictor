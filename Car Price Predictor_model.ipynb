{
 "cells": [
  {
   "cell_type": "code",
   "execution_count": 1,
   "id": "4e8ad975-cf14-4485-9eb0-156c297021b3",
   "metadata": {},
   "outputs": [],
   "source": [
    "import pandas as pd "
   ]
  },
  {
   "cell_type": "code",
   "execution_count": 2,
   "id": "aaf1ead0-0a87-4b92-98ea-a456ea687034",
   "metadata": {},
   "outputs": [
    {
     "data": {
      "text/html": [
       "<div>\n",
       "<style scoped>\n",
       "    .dataframe tbody tr th:only-of-type {\n",
       "        vertical-align: middle;\n",
       "    }\n",
       "\n",
       "    .dataframe tbody tr th {\n",
       "        vertical-align: top;\n",
       "    }\n",
       "\n",
       "    .dataframe thead th {\n",
       "        text-align: right;\n",
       "    }\n",
       "</style>\n",
       "<table border=\"1\" class=\"dataframe\">\n",
       "  <thead>\n",
       "    <tr style=\"text-align: right;\">\n",
       "      <th></th>\n",
       "      <th>Unnamed: 0</th>\n",
       "      <th>car_name</th>\n",
       "      <th>brand</th>\n",
       "      <th>model</th>\n",
       "      <th>vehicle_age</th>\n",
       "      <th>km_driven</th>\n",
       "      <th>seller_type</th>\n",
       "      <th>fuel_type</th>\n",
       "      <th>transmission_type</th>\n",
       "      <th>mileage</th>\n",
       "      <th>engine</th>\n",
       "      <th>max_power</th>\n",
       "      <th>seats</th>\n",
       "      <th>selling_price</th>\n",
       "    </tr>\n",
       "  </thead>\n",
       "  <tbody>\n",
       "    <tr>\n",
       "      <th>0</th>\n",
       "      <td>0</td>\n",
       "      <td>Maruti Alto</td>\n",
       "      <td>Maruti</td>\n",
       "      <td>Alto</td>\n",
       "      <td>9</td>\n",
       "      <td>120000</td>\n",
       "      <td>Individual</td>\n",
       "      <td>Petrol</td>\n",
       "      <td>Manual</td>\n",
       "      <td>19.70</td>\n",
       "      <td>796</td>\n",
       "      <td>46.30</td>\n",
       "      <td>5</td>\n",
       "      <td>120000</td>\n",
       "    </tr>\n",
       "    <tr>\n",
       "      <th>1</th>\n",
       "      <td>1</td>\n",
       "      <td>Hyundai Grand</td>\n",
       "      <td>Hyundai</td>\n",
       "      <td>Grand</td>\n",
       "      <td>5</td>\n",
       "      <td>20000</td>\n",
       "      <td>Individual</td>\n",
       "      <td>Petrol</td>\n",
       "      <td>Manual</td>\n",
       "      <td>18.90</td>\n",
       "      <td>1197</td>\n",
       "      <td>82.00</td>\n",
       "      <td>5</td>\n",
       "      <td>550000</td>\n",
       "    </tr>\n",
       "    <tr>\n",
       "      <th>2</th>\n",
       "      <td>2</td>\n",
       "      <td>Hyundai i20</td>\n",
       "      <td>Hyundai</td>\n",
       "      <td>i20</td>\n",
       "      <td>11</td>\n",
       "      <td>60000</td>\n",
       "      <td>Individual</td>\n",
       "      <td>Petrol</td>\n",
       "      <td>Manual</td>\n",
       "      <td>17.00</td>\n",
       "      <td>1197</td>\n",
       "      <td>80.00</td>\n",
       "      <td>5</td>\n",
       "      <td>215000</td>\n",
       "    </tr>\n",
       "    <tr>\n",
       "      <th>3</th>\n",
       "      <td>3</td>\n",
       "      <td>Maruti Alto</td>\n",
       "      <td>Maruti</td>\n",
       "      <td>Alto</td>\n",
       "      <td>9</td>\n",
       "      <td>37000</td>\n",
       "      <td>Individual</td>\n",
       "      <td>Petrol</td>\n",
       "      <td>Manual</td>\n",
       "      <td>20.92</td>\n",
       "      <td>998</td>\n",
       "      <td>67.10</td>\n",
       "      <td>5</td>\n",
       "      <td>226000</td>\n",
       "    </tr>\n",
       "    <tr>\n",
       "      <th>4</th>\n",
       "      <td>4</td>\n",
       "      <td>Ford Ecosport</td>\n",
       "      <td>Ford</td>\n",
       "      <td>Ecosport</td>\n",
       "      <td>6</td>\n",
       "      <td>30000</td>\n",
       "      <td>Dealer</td>\n",
       "      <td>Diesel</td>\n",
       "      <td>Manual</td>\n",
       "      <td>22.77</td>\n",
       "      <td>1498</td>\n",
       "      <td>98.59</td>\n",
       "      <td>5</td>\n",
       "      <td>570000</td>\n",
       "    </tr>\n",
       "  </tbody>\n",
       "</table>\n",
       "</div>"
      ],
      "text/plain": [
       "   Unnamed: 0       car_name    brand     model  vehicle_age  km_driven  \\\n",
       "0           0    Maruti Alto   Maruti      Alto            9     120000   \n",
       "1           1  Hyundai Grand  Hyundai     Grand            5      20000   \n",
       "2           2    Hyundai i20  Hyundai       i20           11      60000   \n",
       "3           3    Maruti Alto   Maruti      Alto            9      37000   \n",
       "4           4  Ford Ecosport     Ford  Ecosport            6      30000   \n",
       "\n",
       "  seller_type fuel_type transmission_type  mileage  engine  max_power  seats  \\\n",
       "0  Individual    Petrol            Manual    19.70     796      46.30      5   \n",
       "1  Individual    Petrol            Manual    18.90    1197      82.00      5   \n",
       "2  Individual    Petrol            Manual    17.00    1197      80.00      5   \n",
       "3  Individual    Petrol            Manual    20.92     998      67.10      5   \n",
       "4      Dealer    Diesel            Manual    22.77    1498      98.59      5   \n",
       "\n",
       "   selling_price  \n",
       "0         120000  \n",
       "1         550000  \n",
       "2         215000  \n",
       "3         226000  \n",
       "4         570000  "
      ]
     },
     "execution_count": 2,
     "metadata": {},
     "output_type": "execute_result"
    }
   ],
   "source": [
    "df = pd.read_csv('cardekho_dataset.csv')"
   ]
  },
  {
   "cell_type": "code",
   "execution_count": 4,
   "id": "491f6e35-1384-4e08-837b-120a9e76e86c",
   "metadata": {},
   "outputs": [
    {
     "data": {
      "text/plain": [
       "(15411, 14)"
      ]
     },
     "execution_count": 4,
     "metadata": {},
     "output_type": "execute_result"
    }
   ],
   "source": [
    "df.shape"
   ]
  },
  {
   "cell_type": "code",
   "execution_count": 5,
   "id": "1ddc3d1f-a082-40e9-a794-08c461e26286",
   "metadata": {},
   "outputs": [
    {
     "name": "stdout",
     "output_type": "stream",
     "text": [
      "<class 'pandas.core.frame.DataFrame'>\n",
      "RangeIndex: 15411 entries, 0 to 15410\n",
      "Data columns (total 14 columns):\n",
      " #   Column             Non-Null Count  Dtype  \n",
      "---  ------             --------------  -----  \n",
      " 0   Unnamed: 0         15411 non-null  int64  \n",
      " 1   car_name           15411 non-null  object \n",
      " 2   brand              15411 non-null  object \n",
      " 3   model              15411 non-null  object \n",
      " 4   vehicle_age        15411 non-null  int64  \n",
      " 5   km_driven          15411 non-null  int64  \n",
      " 6   seller_type        15411 non-null  object \n",
      " 7   fuel_type          15411 non-null  object \n",
      " 8   transmission_type  15411 non-null  object \n",
      " 9   mileage            15411 non-null  float64\n",
      " 10  engine             15411 non-null  int64  \n",
      " 11  max_power          15411 non-null  float64\n",
      " 12  seats              15411 non-null  int64  \n",
      " 13  selling_price      15411 non-null  int64  \n",
      "dtypes: float64(2), int64(6), object(6)\n",
      "memory usage: 1.6+ MB\n"
     ]
    }
   ],
   "source": [
    "df.info()"
   ]
  },
  {
   "cell_type": "code",
   "execution_count": 21,
   "id": "8a283b1b-592c-452e-9764-f5ed93a19af9",
   "metadata": {},
   "outputs": [
    {
     "data": {
      "text/plain": [
       "array([ 120000,  550000,  215000, ..., 1640000,  386000,  456000],\n",
       "      dtype=int64)"
      ]
     },
     "execution_count": 21,
     "metadata": {},
     "output_type": "execute_result"
    }
   ],
   "source": [
    "# df['car_name'].unique()  ----NO Garbage found\n",
    "# df['brand'].unique()  ----NO Garbage found\n",
    "# df['vehicle_age'].unique()   ----NO Garbage found\n",
    "# df['model'].unique()   ----NO Garbage found\n",
    "# df['km_driven'].unique()   ----NO Garbage found\n",
    "# df['seller_type'].unique()   ----NO Garbage found\n",
    "# df['fuel_type'].unique()   ----NO Garbage found\n",
    "# df['transmission_type'].unique()   ----NO Garbage found\n",
    "# df['vehicle_age'].unique()   ----NO Garbage found\n",
    "# df['mileage'].unique()   ----NO Garbage found\n",
    "# df['engine'].unique()   ----NO Garbage found\n",
    "# df['max_power'].unique()  ----NO Garbage found\n",
    "# df['seats'].unique()   ----NO Garbage found\n",
    "# df['vehicle_age'].unique()  ----NO Garbage found\n",
    "# df['selling_price'].unique()  ----NO Garbage found\n",
    "\n",
    "# Dataset has NO Garbage values"
   ]
  },
  {
   "cell_type": "code",
   "execution_count": null,
   "id": "0f04121f-f5ef-449b-b95b-0e7840f46616",
   "metadata": {},
   "outputs": [],
   "source": []
  },
  {
   "cell_type": "code",
   "execution_count": null,
   "id": "b7f09f29-f890-4385-82c4-8f7932f7b6d5",
   "metadata": {},
   "outputs": [],
   "source": []
  },
  {
   "cell_type": "code",
   "execution_count": null,
   "id": "7b16a4c7-63cc-42d7-98ed-89ba49f6e349",
   "metadata": {},
   "outputs": [],
   "source": []
  }
 ],
 "metadata": {
  "kernelspec": {
   "display_name": "Python 3 (ipykernel)",
   "language": "python",
   "name": "python3"
  },
  "language_info": {
   "codemirror_mode": {
    "name": "ipython",
    "version": 3
   },
   "file_extension": ".py",
   "mimetype": "text/x-python",
   "name": "python",
   "nbconvert_exporter": "python",
   "pygments_lexer": "ipython3",
   "version": "3.12.1"
  }
 },
 "nbformat": 4,
 "nbformat_minor": 5
}
